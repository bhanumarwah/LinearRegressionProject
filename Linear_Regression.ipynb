{
  "nbformat": 4,
  "nbformat_minor": 0,
  "metadata": {
    "colab": {
      "provenance": []
    },
    "kernelspec": {
      "name": "python3",
      "display_name": "Python 3"
    },
    "language_info": {
      "name": "python"
    }
  },
  "cells": [
    {
      "cell_type": "markdown",
      "source": [
        "**Data Science and Business Analytics Internship**\n",
        "\n",
        "**Task #2 Prediction Using Supervised Machine Learning**\n",
        "\n",
        "**Name - Bhanu Marwah**\n",
        "\n"
      ],
      "metadata": {
        "id": "oujqxjUwfjsb"
      }
    },
    {
      "cell_type": "markdown",
      "source": [
        "**Linear Regression**\n",
        "\n",
        "When there is a linear relationship between the dependent and independent variables and we want to predict the dependent variable using that relationship.\n",
        "\n",
        "Here, it is simple linear regression model where we will predict the percentage of marks that a student is expected to score based upon the number of hours he/she has studied. "
      ],
      "metadata": {
        "id": "Jgi90MSVg3bJ"
      }
    },
    {
      "cell_type": "code",
      "source": [
        "# importing required libraries\n",
        "import pandas as pd\n",
        "import numpy as np \n",
        "import matplotlib.pyplot as plt\n",
        "%matplotlib inline"
      ],
      "metadata": {
        "id": "yPRwFcgziVjw"
      },
      "execution_count": null,
      "outputs": []
    },
    {
      "cell_type": "code",
      "source": [
        "# reading the dataset \n",
        "url = \"http://bit.ly/w-data\"\n",
        "data = pd.read_csv(url)\n",
        "data.head()\n"
      ],
      "metadata": {
        "colab": {
          "base_uri": "https://localhost:8080/",
          "height": 206
        },
        "id": "MKslVQ5djAIY",
        "outputId": "45212a75-cb2a-4201-c096-28164adf0c80"
      },
      "execution_count": null,
      "outputs": [
        {
          "output_type": "execute_result",
          "data": {
            "text/plain": [
              "   Hours  Scores\n",
              "0    2.5      21\n",
              "1    5.1      47\n",
              "2    3.2      27\n",
              "3    8.5      75\n",
              "4    3.5      30"
            ],
            "text/html": [
              "\n",
              "  <div id=\"df-7360602b-4bb6-40cd-8cf3-caa4764d31ea\">\n",
              "    <div class=\"colab-df-container\">\n",
              "      <div>\n",
              "<style scoped>\n",
              "    .dataframe tbody tr th:only-of-type {\n",
              "        vertical-align: middle;\n",
              "    }\n",
              "\n",
              "    .dataframe tbody tr th {\n",
              "        vertical-align: top;\n",
              "    }\n",
              "\n",
              "    .dataframe thead th {\n",
              "        text-align: right;\n",
              "    }\n",
              "</style>\n",
              "<table border=\"1\" class=\"dataframe\">\n",
              "  <thead>\n",
              "    <tr style=\"text-align: right;\">\n",
              "      <th></th>\n",
              "      <th>Hours</th>\n",
              "      <th>Scores</th>\n",
              "    </tr>\n",
              "  </thead>\n",
              "  <tbody>\n",
              "    <tr>\n",
              "      <th>0</th>\n",
              "      <td>2.5</td>\n",
              "      <td>21</td>\n",
              "    </tr>\n",
              "    <tr>\n",
              "      <th>1</th>\n",
              "      <td>5.1</td>\n",
              "      <td>47</td>\n",
              "    </tr>\n",
              "    <tr>\n",
              "      <th>2</th>\n",
              "      <td>3.2</td>\n",
              "      <td>27</td>\n",
              "    </tr>\n",
              "    <tr>\n",
              "      <th>3</th>\n",
              "      <td>8.5</td>\n",
              "      <td>75</td>\n",
              "    </tr>\n",
              "    <tr>\n",
              "      <th>4</th>\n",
              "      <td>3.5</td>\n",
              "      <td>30</td>\n",
              "    </tr>\n",
              "  </tbody>\n",
              "</table>\n",
              "</div>\n",
              "      <button class=\"colab-df-convert\" onclick=\"convertToInteractive('df-7360602b-4bb6-40cd-8cf3-caa4764d31ea')\"\n",
              "              title=\"Convert this dataframe to an interactive table.\"\n",
              "              style=\"display:none;\">\n",
              "        \n",
              "  <svg xmlns=\"http://www.w3.org/2000/svg\" height=\"24px\"viewBox=\"0 0 24 24\"\n",
              "       width=\"24px\">\n",
              "    <path d=\"M0 0h24v24H0V0z\" fill=\"none\"/>\n",
              "    <path d=\"M18.56 5.44l.94 2.06.94-2.06 2.06-.94-2.06-.94-.94-2.06-.94 2.06-2.06.94zm-11 1L8.5 8.5l.94-2.06 2.06-.94-2.06-.94L8.5 2.5l-.94 2.06-2.06.94zm10 10l.94 2.06.94-2.06 2.06-.94-2.06-.94-.94-2.06-.94 2.06-2.06.94z\"/><path d=\"M17.41 7.96l-1.37-1.37c-.4-.4-.92-.59-1.43-.59-.52 0-1.04.2-1.43.59L10.3 9.45l-7.72 7.72c-.78.78-.78 2.05 0 2.83L4 21.41c.39.39.9.59 1.41.59.51 0 1.02-.2 1.41-.59l7.78-7.78 2.81-2.81c.8-.78.8-2.07 0-2.86zM5.41 20L4 18.59l7.72-7.72 1.47 1.35L5.41 20z\"/>\n",
              "  </svg>\n",
              "      </button>\n",
              "      \n",
              "  <style>\n",
              "    .colab-df-container {\n",
              "      display:flex;\n",
              "      flex-wrap:wrap;\n",
              "      gap: 12px;\n",
              "    }\n",
              "\n",
              "    .colab-df-convert {\n",
              "      background-color: #E8F0FE;\n",
              "      border: none;\n",
              "      border-radius: 50%;\n",
              "      cursor: pointer;\n",
              "      display: none;\n",
              "      fill: #1967D2;\n",
              "      height: 32px;\n",
              "      padding: 0 0 0 0;\n",
              "      width: 32px;\n",
              "    }\n",
              "\n",
              "    .colab-df-convert:hover {\n",
              "      background-color: #E2EBFA;\n",
              "      box-shadow: 0px 1px 2px rgba(60, 64, 67, 0.3), 0px 1px 3px 1px rgba(60, 64, 67, 0.15);\n",
              "      fill: #174EA6;\n",
              "    }\n",
              "\n",
              "    [theme=dark] .colab-df-convert {\n",
              "      background-color: #3B4455;\n",
              "      fill: #D2E3FC;\n",
              "    }\n",
              "\n",
              "    [theme=dark] .colab-df-convert:hover {\n",
              "      background-color: #434B5C;\n",
              "      box-shadow: 0px 1px 3px 1px rgba(0, 0, 0, 0.15);\n",
              "      filter: drop-shadow(0px 1px 2px rgba(0, 0, 0, 0.3));\n",
              "      fill: #FFFFFF;\n",
              "    }\n",
              "  </style>\n",
              "\n",
              "      <script>\n",
              "        const buttonEl =\n",
              "          document.querySelector('#df-7360602b-4bb6-40cd-8cf3-caa4764d31ea button.colab-df-convert');\n",
              "        buttonEl.style.display =\n",
              "          google.colab.kernel.accessAllowed ? 'block' : 'none';\n",
              "\n",
              "        async function convertToInteractive(key) {\n",
              "          const element = document.querySelector('#df-7360602b-4bb6-40cd-8cf3-caa4764d31ea');\n",
              "          const dataTable =\n",
              "            await google.colab.kernel.invokeFunction('convertToInteractive',\n",
              "                                                     [key], {});\n",
              "          if (!dataTable) return;\n",
              "\n",
              "          const docLinkHtml = 'Like what you see? Visit the ' +\n",
              "            '<a target=\"_blank\" href=https://colab.research.google.com/notebooks/data_table.ipynb>data table notebook</a>'\n",
              "            + ' to learn more about interactive tables.';\n",
              "          element.innerHTML = '';\n",
              "          dataTable['output_type'] = 'display_data';\n",
              "          await google.colab.output.renderOutput(dataTable, element);\n",
              "          const docLink = document.createElement('div');\n",
              "          docLink.innerHTML = docLinkHtml;\n",
              "          element.appendChild(docLink);\n",
              "        }\n",
              "      </script>\n",
              "    </div>\n",
              "  </div>\n",
              "  "
            ]
          },
          "metadata": {},
          "execution_count": 13
        }
      ]
    },
    {
      "cell_type": "markdown",
      "source": [
        "First of all, we need to find out the relationship between both the variables - Hours and Scores."
      ],
      "metadata": {
        "id": "zl6Gj7xDmAxY"
      }
    },
    {
      "cell_type": "code",
      "source": [
        "# plotting the variables \n",
        "data.plot(x='Hours', y='Scores', style='*')  \n",
        "plt.title('Hours vs Percentage')  \n",
        "plt.xlabel('Hours Studied')  \n",
        "plt.ylabel('Percentage Scored')  \n",
        "plt.show()"
      ],
      "metadata": {
        "colab": {
          "base_uri": "https://localhost:8080/",
          "height": 295
        },
        "id": "e2tapyY5mP2T",
        "outputId": "4fdd5306-5589-476b-d5f2-a8cd07074480"
      },
      "execution_count": null,
      "outputs": [
        {
          "output_type": "display_data",
          "data": {
            "text/plain": [
              "<Figure size 432x288 with 1 Axes>"
            ],
            "image/png": "[encoded data removed]"
          },
          "metadata": {
            "needs_background": "light"
          }
        }
      ]
    },
    {
      "cell_type": "markdown",
      "source": [
        "**We can clearly see that there is a linear relationship between no. of hours studied and percentage scored.**"
      ],
      "metadata": {
        "id": "G-K8Rh6lnVGS"
      }
    },
    {
      "cell_type": "markdown",
      "source": [
        "Segregating the dataset into dependent and independent variables"
      ],
      "metadata": {
        "id": "cNmymJNEoJFC"
      }
    },
    {
      "cell_type": "code",
      "source": [
        "x = data.iloc[:, :-1].values  # independent variables is hours studied \n",
        "y = data.iloc[:, 1].values    # dependent variable is percentage scored"
      ],
      "metadata": {
        "id": "HV84HP95nS5x"
      },
      "execution_count": null,
      "outputs": []
    },
    {
      "cell_type": "markdown",
      "source": [
        "Splitting the dataset into train ans test sets"
      ],
      "metadata": {
        "id": "95FTHblFpFLc"
      }
    },
    {
      "cell_type": "code",
      "source": [
        "from sklearn.model_selection import train_test_split  \n",
        "x_train, x_test, y_train, y_test = train_test_split(x, y, test_size=0.2, random_state=0) \n"
      ],
      "metadata": {
        "id": "eiWIRK95pLnO"
      },
      "execution_count": null,
      "outputs": []
    },
    {
      "cell_type": "markdown",
      "source": [
        "Training the model"
      ],
      "metadata": {
        "id": "ktvg2t6oqNbj"
      }
    },
    {
      "cell_type": "code",
      "source": [
        "from sklearn.linear_model import LinearRegression  \n",
        "regressor = LinearRegression()   # initialize the model \n",
        "regressor.fit(x_train, y_train)  # fitting the train set"
      ],
      "metadata": {
        "colab": {
          "base_uri": "https://localhost:8080/"
        },
        "id": "3SCqll95pEPT",
        "outputId": "08291088-a2d4-4da4-ad1d-8173767e6c94"
      },
      "execution_count": null,
      "outputs": [
        {
          "output_type": "execute_result",
          "data": {
            "text/plain": [
              "LinearRegression()"
            ]
          },
          "metadata": {},
          "execution_count": 20
        }
      ]
    },
    {
      "cell_type": "markdown",
      "source": [
        "**Regression Line** - It is a straight line that attempts to predict the relationship between two variables. \n",
        "\n",
        "The equation of the line is - y = a*x + b where a is the slope of the line and b is the intercept.\n",
        "\n",
        "![image_linear_regression.png](data:image/png;base64,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)"
      ],
      "metadata": {
        "id": "hDWFhAXcqlk8"
      }
    },
    {
      "cell_type": "code",
      "source": [
        "# Plotting the regression line\n",
        "line = regressor.coef_*x+regressor.intercept_\n",
        " # here, a = regressor coefficient and  b is regressor intercept\n",
        "# Plotting for the test data\n",
        "plt.scatter(x, y)\n",
        "plt.plot(x, line);\n",
        "plt.show()"
      ],
      "metadata": {
        "colab": {
          "base_uri": "https://localhost:8080/",
          "height": 265
        },
        "id": "yCa74MzLsH0i",
        "outputId": "157a966f-15a8-463b-e95b-79fb23d31292"
      },
      "execution_count": null,
      "outputs": [
        {
          "output_type": "display_data",
          "data": {
            "text/plain": [
              "<Figure size 432x288 with 1 Axes>"
            ],
            "image/png": "[encoded data removed]"
          },
          "metadata": {
            "needs_background": "light"
          }
        }
      ]
    },
    {
      "cell_type": "markdown",
      "source": [
        "Making predictions on the test set"
      ],
      "metadata": {
        "id": "n5fqX7nMsvgB"
      }
    },
    {
      "cell_type": "code",
      "source": [
        "y_pred = regressor.predict(x_test) # Predicting the scores"
      ],
      "metadata": {
        "id": "WspjVwibszRJ"
      },
      "execution_count": null,
      "outputs": []
    },
    {
      "cell_type": "markdown",
      "source": [
        "Comparing Actual and Predicted Values"
      ],
      "metadata": {
        "id": "c2NYsIWrtJD_"
      }
    },
    {
      "cell_type": "code",
      "source": [
        "pred_data = pd.DataFrame({'Actual': y_test, 'Predicted': y_pred})  \n",
        "pred_data.head() "
      ],
      "metadata": {
        "colab": {
          "base_uri": "https://localhost:8080/",
          "height": 206
        },
        "id": "7JiG_gDAtPNz",
        "outputId": "227a6438-9067-4535-ba10-163eb982faab"
      },
      "execution_count": null,
      "outputs": [
        {
          "output_type": "execute_result",
          "data": {
            "text/plain": [
              "   Actual  Predicted\n",
              "0      20  16.884145\n",
              "1      27  33.732261\n",
              "2      69  75.357018\n",
              "3      30  26.794801\n",
              "4      62  60.491033"
            ],
            "text/html": [
              "\n",
              "  <div id=\"df-1df7b5f7-ffbc-4c20-b74b-45cd3a7d22c6\">\n",
              "    <div class=\"colab-df-container\">\n",
              "      <div>\n",
              "<style scoped>\n",
              "    .dataframe tbody tr th:only-of-type {\n",
              "        vertical-align: middle;\n",
              "    }\n",
              "\n",
              "    .dataframe tbody tr th {\n",
              "        vertical-align: top;\n",
              "    }\n",
              "\n",
              "    .dataframe thead th {\n",
              "        text-align: right;\n",
              "    }\n",
              "</style>\n",
              "<table border=\"1\" class=\"dataframe\">\n",
              "  <thead>\n",
              "    <tr style=\"text-align: right;\">\n",
              "      <th></th>\n",
              "      <th>Actual</th>\n",
              "      <th>Predicted</th>\n",
              "    </tr>\n",
              "  </thead>\n",
              "  <tbody>\n",
              "    <tr>\n",
              "      <th>0</th>\n",
              "      <td>20</td>\n",
              "      <td>16.884145</td>\n",
              "    </tr>\n",
              "    <tr>\n",
              "      <th>1</th>\n",
              "      <td>27</td>\n",
              "      <td>33.732261</td>\n",
              "    </tr>\n",
              "    <tr>\n",
              "      <th>2</th>\n",
              "      <td>69</td>\n",
              "      <td>75.357018</td>\n",
              "    </tr>\n",
              "    <tr>\n",
              "      <th>3</th>\n",
              "      <td>30</td>\n",
              "      <td>26.794801</td>\n",
              "    </tr>\n",
              "    <tr>\n",
              "      <th>4</th>\n",
              "      <td>62</td>\n",
              "      <td>60.491033</td>\n",
              "    </tr>\n",
              "  </tbody>\n",
              "</table>\n",
              "</div>\n",
              "      <button class=\"colab-df-convert\" onclick=\"convertToInteractive('df-1df7b5f7-ffbc-4c20-b74b-45cd3a7d22c6')\"\n",
              "              title=\"Convert this dataframe to an interactive table.\"\n",
              "              style=\"display:none;\">\n",
              "        \n",
              "  <svg xmlns=\"http://www.w3.org/2000/svg\" height=\"24px\"viewBox=\"0 0 24 24\"\n",
              "       width=\"24px\">\n",
              "    <path d=\"M0 0h24v24H0V0z\" fill=\"none\"/>\n",
              "    <path d=\"M18.56 5.44l.94 2.06.94-2.06 2.06-.94-2.06-.94-.94-2.06-.94 2.06-2.06.94zm-11 1L8.5 8.5l.94-2.06 2.06-.94-2.06-.94L8.5 2.5l-.94 2.06-2.06.94zm10 10l.94 2.06.94-2.06 2.06-.94-2.06-.94-.94-2.06-.94 2.06-2.06.94z\"/><path d=\"M17.41 7.96l-1.37-1.37c-.4-.4-.92-.59-1.43-.59-.52 0-1.04.2-1.43.59L10.3 9.45l-7.72 7.72c-.78.78-.78 2.05 0 2.83L4 21.41c.39.39.9.59 1.41.59.51 0 1.02-.2 1.41-.59l7.78-7.78 2.81-2.81c.8-.78.8-2.07 0-2.86zM5.41 20L4 18.59l7.72-7.72 1.47 1.35L5.41 20z\"/>\n",
              "  </svg>\n",
              "      </button>\n",
              "      \n",
              "  <style>\n",
              "    .colab-df-container {\n",
              "      display:flex;\n",
              "      flex-wrap:wrap;\n",
              "      gap: 12px;\n",
              "    }\n",
              "\n",
              "    .colab-df-convert {\n",
              "      background-color: #E8F0FE;\n",
              "      border: none;\n",
              "      border-radius: 50%;\n",
              "      cursor: pointer;\n",
              "      display: none;\n",
              "      fill: #1967D2;\n",
              "      height: 32px;\n",
              "      padding: 0 0 0 0;\n",
              "      width: 32px;\n",
              "    }\n",
              "\n",
              "    .colab-df-convert:hover {\n",
              "      background-color: #E2EBFA;\n",
              "      box-shadow: 0px 1px 2px rgba(60, 64, 67, 0.3), 0px 1px 3px 1px rgba(60, 64, 67, 0.15);\n",
              "      fill: #174EA6;\n",
              "    }\n",
              "\n",
              "    [theme=dark] .colab-df-convert {\n",
              "      background-color: #3B4455;\n",
              "      fill: #D2E3FC;\n",
              "    }\n",
              "\n",
              "    [theme=dark] .colab-df-convert:hover {\n",
              "      background-color: #434B5C;\n",
              "      box-shadow: 0px 1px 3px 1px rgba(0, 0, 0, 0.15);\n",
              "      filter: drop-shadow(0px 1px 2px rgba(0, 0, 0, 0.3));\n",
              "      fill: #FFFFFF;\n",
              "    }\n",
              "  </style>\n",
              "\n",
              "      <script>\n",
              "        const buttonEl =\n",
              "          document.querySelector('#df-1df7b5f7-ffbc-4c20-b74b-45cd3a7d22c6 button.colab-df-convert');\n",
              "        buttonEl.style.display =\n",
              "          google.colab.kernel.accessAllowed ? 'block' : 'none';\n",
              "\n",
              "        async function convertToInteractive(key) {\n",
              "          const element = document.querySelector('#df-1df7b5f7-ffbc-4c20-b74b-45cd3a7d22c6');\n",
              "          const dataTable =\n",
              "            await google.colab.kernel.invokeFunction('convertToInteractive',\n",
              "                                                     [key], {});\n",
              "          if (!dataTable) return;\n",
              "\n",
              "          const docLinkHtml = 'Like what you see? Visit the ' +\n",
              "            '<a target=\"_blank\" href=https://colab.research.google.com/notebooks/data_table.ipynb>data table notebook</a>'\n",
              "            + ' to learn more about interactive tables.';\n",
              "          element.innerHTML = '';\n",
              "          dataTable['output_type'] = 'display_data';\n",
              "          await google.colab.output.renderOutput(dataTable, element);\n",
              "          const docLink = document.createElement('div');\n",
              "          docLink.innerHTML = docLinkHtml;\n",
              "          element.appendChild(docLink);\n",
              "        }\n",
              "      </script>\n",
              "    </div>\n",
              "  </div>\n",
              "  "
            ]
          },
          "metadata": {},
          "execution_count": 24
        }
      ]
    },
    {
      "cell_type": "markdown",
      "source": [
        "Our main question was - **What will be the predicted score if the student studies for 9.25 hours a day?**\n",
        "\n",
        "So, Now we will predict the percentage scored using our own value for Hours."
      ],
      "metadata": {
        "id": "vVUPNyNtttvh"
      }
    },
    {
      "cell_type": "code",
      "source": [
        "hours = 9.25\n",
        "own_pred = regressor.predict([[hours]])\n",
        "print(\"No of Hours = {}\".format(hours))\n",
        "print(\"Predicted Score = {}\".format(own_pred[0]))"
      ],
      "metadata": {
        "colab": {
          "base_uri": "https://localhost:8080/"
        },
        "id": "bGEvtPyLuQjU",
        "outputId": "446ee626-ceec-4a1e-cd7d-fc7959701053"
      },
      "execution_count": null,
      "outputs": [
        {
          "output_type": "stream",
          "name": "stdout",
          "text": [
            "No of Hours = 9.25\n",
            "Predicted Score = 93.69173248737539\n"
          ]
        }
      ]
    },
    {
      "cell_type": "markdown",
      "source": [
        "Evaluating the Model - Since, here we are dealing with numric data so we can use mean square error as our evaluation metric. "
      ],
      "metadata": {
        "id": "W9ksq1N_xRJg"
      }
    },
    {
      "cell_type": "code",
      "source": [
        "from sklearn.metrics import mean_absolute_error as MAE\n",
        "print('Mean Absolute Error:', MAE(y_test, y_pred)) "
      ],
      "metadata": {
        "colab": {
          "base_uri": "https://localhost:8080/"
        },
        "id": "7k5BdhDVxm0V",
        "outputId": "916c3c5d-9dca-4363-f29c-fd823ceab829"
      },
      "execution_count": null,
      "outputs": [
        {
          "output_type": "stream",
          "name": "stdout",
          "text": [
            "Mean Absolute Error: 4.183859899002982\n"
          ]
        }
      ]
    },
    {
      "cell_type": "code",
      "source": [],
      "metadata": {
        "id": "MbRMnLwVx7kK"
      },
      "execution_count": null,
      "outputs": []
    }
  ]
}